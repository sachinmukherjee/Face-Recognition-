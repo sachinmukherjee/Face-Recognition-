{
 "cells": [
  {
   "cell_type": "markdown",
   "metadata": {},
   "source": [
    "# FaceRecognization using KNN and PCA"
   ]
  },
  {
   "cell_type": "code",
   "execution_count": 23,
   "metadata": {},
   "outputs": [],
   "source": [
    "from sklearn import datasets\n",
    "from sklearn.neighbors import KNeighborsClassifier\n",
    "from sklearn.decomposition import PCA\n",
    "from sklearn.datasets import fetch_olivetti_faces\n",
    "from sklearn.cross_validation import train_test_split\n",
    "from sklearn.decomposition import RandomizedPCA"
   ]
  },
  {
   "cell_type": "code",
   "execution_count": null,
   "metadata": {},
   "outputs": [],
   "source": [
    "# Olivetti faces has 10 images of 40 person of 64 * 64 dimension"
   ]
  },
  {
   "cell_type": "code",
   "execution_count": 6,
   "metadata": {},
   "outputs": [],
   "source": [
    "face_data = fetch_olivetti_faces()"
   ]
  },
  {
   "cell_type": "code",
   "execution_count": 11,
   "metadata": {},
   "outputs": [
    {
     "name": "stdout",
     "output_type": "stream",
     "text": [
      "Number of images 400\n",
      "Height of each image 64\n",
      "Width of each image 64\n"
     ]
    }
   ],
   "source": [
    "number_of_sample, height, width = face_data.images.shape\n",
    "X = face_data.data\n",
    "y = face_data.target\n",
    "print \"Number of images \"+ str(number_of_sample)\n",
    "print \"Height of each image \" + str(height)\n",
    "print \"Width of each image \" + str(width)"
   ]
  },
  {
   "cell_type": "code",
   "execution_count": 39,
   "metadata": {},
   "outputs": [],
   "source": [
    "X_train, X_test, y_train, y_test = train_test_split(X,y, test_size=0.25, random_state=40)\n",
    "# X_train is training input\n",
    "# X_test is testing input\n",
    "# y_train is training output label\n",
    "# y_test is testing output label"
   ]
  },
  {
   "cell_type": "code",
   "execution_count": 13,
   "metadata": {},
   "outputs": [],
   "source": [
    "# Doing Principal Component Analysis"
   ]
  },
  {
   "cell_type": "code",
   "execution_count": 59,
   "metadata": {},
   "outputs": [
    {
     "name": "stderr",
     "output_type": "stream",
     "text": [
      "/usr/local/lib/python2.7/dist-packages/sklearn/utils/deprecation.py:57: DeprecationWarning: Class RandomizedPCA is deprecated; RandomizedPCA was deprecated in 0.18 and will be removed in 0.20. Use PCA(svd_solver='randomized') instead. The new implementation DOES NOT store whiten ``components_``. Apply transform to get them.\n",
      "  warnings.warn(msg, category=DeprecationWarning)\n"
     ]
    }
   ],
   "source": [
    "# reducing the dimensiontality of dataset\n",
    "n_components = 150                 # no of eigen vector to select\n",
    "\n",
    "# finding top n components principal components in data\n",
    "pca = RandomizedPCA(n_components = n_components).fit(X_train)"
   ]
  },
  {
   "cell_type": "code",
   "execution_count": 47,
   "metadata": {},
   "outputs": [],
   "source": [
    "# Projecting the data into eigen space"
   ]
  },
  {
   "cell_type": "code",
   "execution_count": 60,
   "metadata": {},
   "outputs": [
    {
     "name": "stdout",
     "output_type": "stream",
     "text": [
      "New Height 300\n",
      "New Width 150\n"
     ]
    }
   ],
   "source": [
    "X_train_pca = pca.transform(X_train)     # training input data\n",
    "X_test_pca = pca.transform(X_test)       # testing input data\n",
    "\n",
    "# New Height and width\n",
    "new_height, new_width = X_train_pca.shape\n",
    "print \"New Height \" + str(new_height)\n",
    "print \"New Width \" + str(new_width)"
   ]
  },
  {
   "cell_type": "code",
   "execution_count": 24,
   "metadata": {},
   "outputs": [],
   "source": [
    "# Now using K nearest neighbour to classify images\n"
   ]
  },
  {
   "cell_type": "code",
   "execution_count": 100,
   "metadata": {},
   "outputs": [],
   "source": [
    "knn_classifier = KNeighborsClassifier(n_neighbors=5)\n",
    "knn_classifier.fit(X_train_pca, y_train)\n",
    "\n",
    "# Detecting faces in test space\n",
    "y_pred_test = knn_classifier.predict(X_test_pca)"
   ]
  },
  {
   "cell_type": "code",
   "execution_count": 101,
   "metadata": {},
   "outputs": [
    {
     "name": "stdout",
     "output_type": "stream",
     "text": [
      "78.0\n"
     ]
    }
   ],
   "source": [
    "# Now calculating accuracy\n",
    "correct_count = 0.0\n",
    "for i in range(len(y_test)):\n",
    "    if y_pred_test[i] == y_test[i]:\n",
    "        correct_count += 1\n",
    "accuracy = correct_count / len(y_test)\n",
    "print accuracy * 100"
   ]
  },
  {
   "cell_type": "code",
   "execution_count": 65,
   "metadata": {},
   "outputs": [
    {
     "data": {
      "text/plain": [
       "KNeighborsClassifier(algorithm='auto', leaf_size=30, metric='minkowski',\n",
       "           metric_params=None, n_jobs=1, n_neighbors=5, p=2,\n",
       "           weights='uniform')"
      ]
     },
     "execution_count": 65,
     "metadata": {},
     "output_type": "execute_result"
    }
   ],
   "source": [
    "# Now using K nearest neighbour using manathan distance\n",
    "KNeighborsClassifier()\n",
    "\n",
    "# we are going to use mikowski metric with value of p = 1"
   ]
  },
  {
   "cell_type": "code",
   "execution_count": 98,
   "metadata": {},
   "outputs": [],
   "source": [
    "knn_classifier_manhathan = KNeighborsClassifier(n_neighbors=5, p=1)\n",
    "knn_classifier_manhathan.fit(X_train_pca, y_train)\n",
    "\n",
    "# Detecting faces\n",
    "y_pred_test_manhathan = knn_classifier_manhathan.predict(X_test_pca)\n"
   ]
  },
  {
   "cell_type": "code",
   "execution_count": 82,
   "metadata": {},
   "outputs": [],
   "source": [
    "# Now calculating accuracy score for manhathan distace\n"
   ]
  },
  {
   "cell_type": "code",
   "execution_count": 99,
   "metadata": {},
   "outputs": [
    {
     "name": "stdout",
     "output_type": "stream",
     "text": [
      "79.0\n"
     ]
    }
   ],
   "source": [
    "correct_count_manhathan = 0.0\n",
    "for i in range(len(y_test)):\n",
    "    if y_pred_test_manhathan[i] == y_test[i]:\n",
    "        correct_count_manhathan += 1\n",
    "accuracy_manhathan = correct_count_manhathan / len(y_test)\n",
    "print accuracy_manhathan * 100"
   ]
  },
  {
   "cell_type": "markdown",
   "metadata": {},
   "source": [
    "### So Accuracy score of  with different value of nearest neighbour in both distance metrics"
   ]
  },
  {
   "cell_type": "markdown",
   "metadata": {},
   "source": [
    "<table>\n",
    "    <tr>\n",
    "        <th>Number of nearest neighbour</th>\n",
    "        <th>Eucliediean Distance</th>\n",
    "        <th>Manhathan Distance</th>\n",
    "    </tr>\n",
    "    <tr>\n",
    "        <td>2</td>\n",
    "        <td>86.0</td>\n",
    "        <td>85.0</td>\n",
    "    </tr>\n",
    "    <tr>\n",
    "        <td>5</td>\n",
    "        <td>78.0</td>\n",
    "        <td>79.0</td>\n",
    "    </tr>\n",
    "    <tr>\n",
    "        <td>7</td>\n",
    "        <td>70.0</td>\n",
    "        <td>73.0</td>\n",
    "    </tr>\n",
    "    <tr>\n",
    "        <td>10</td>\n",
    "        <td>63.0</td>\n",
    "        <td>67.0</td>\n",
    "    </tr>\n",
    "</table>"
   ]
  },
  {
   "cell_type": "code",
   "execution_count": null,
   "metadata": {},
   "outputs": [],
   "source": []
  }
 ],
 "metadata": {
  "kernelspec": {
   "display_name": "Python 2",
   "language": "python",
   "name": "python2"
  },
  "language_info": {
   "codemirror_mode": {
    "name": "ipython",
    "version": 2
   },
   "file_extension": ".py",
   "mimetype": "text/x-python",
   "name": "python",
   "nbconvert_exporter": "python",
   "pygments_lexer": "ipython2",
   "version": "2.7.12"
  }
 },
 "nbformat": 4,
 "nbformat_minor": 2
}
