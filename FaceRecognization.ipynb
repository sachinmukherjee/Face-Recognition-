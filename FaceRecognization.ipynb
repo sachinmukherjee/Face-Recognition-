{
 "cells": [
  {
   "cell_type": "markdown",
   "metadata": {},
   "source": [
    "# FaceRecognization using KNN and PCA"
   ]
  },
  {
   "cell_type": "code",
   "execution_count": 17,
   "metadata": {},
   "outputs": [
    {
     "name": "stderr",
     "output_type": "stream",
     "text": [
      "/usr/lib/python2.7/dist-packages/matplotlib/font_manager.py:273: UserWarning: Matplotlib is building the font cache using fc-list. This may take a moment.\n",
      "  warnings.warn('Matplotlib is building the font cache using fc-list. This may take a moment.')\n"
     ]
    }
   ],
   "source": [
    "from sklearn import datasets\n",
    "from sklearn.neighbors import KNeighborsClassifier\n",
    "from sklearn.datasets import fetch_olivetti_faces\n",
    "from sklearn.cross_validation import train_test_split\n",
    "from sklearn.decomposition import RandomizedPCA\n",
    "import matplotlib.pyplot as plt"
   ]
  },
  {
   "cell_type": "code",
   "execution_count": 2,
   "metadata": {},
   "outputs": [],
   "source": [
    "# Olivetti faces has 10 images of 40 person of 64 * 64 dimension"
   ]
  },
  {
   "cell_type": "code",
   "execution_count": 3,
   "metadata": {},
   "outputs": [],
   "source": [
    "face_data = fetch_olivetti_faces()"
   ]
  },
  {
   "cell_type": "code",
   "execution_count": 4,
   "metadata": {},
   "outputs": [
    {
     "name": "stdout",
     "output_type": "stream",
     "text": [
      "Number of images 400\n",
      "Height of each image 64\n",
      "Width of each image 64\n"
     ]
    }
   ],
   "source": [
    "number_of_sample, height, width = face_data.images.shape\n",
    "X = face_data.data\n",
    "y = face_data.target\n",
    "print \"Number of images \"+ str(number_of_sample)\n",
    "print \"Height of each image \" + str(height)\n",
    "print \"Width of each image \" + str(width)"
   ]
  },
  {
   "cell_type": "code",
   "execution_count": 5,
   "metadata": {},
   "outputs": [],
   "source": [
    "X_train, X_test, y_train, y_test = train_test_split(X,y, test_size=0.25, random_state=40)\n",
    "# X_train is training input\n",
    "# X_test is testing input\n",
    "# y_train is training output label\n",
    "# y_test is testing output label"
   ]
  },
  {
   "cell_type": "code",
   "execution_count": 6,
   "metadata": {},
   "outputs": [],
   "source": [
    "# Doing Principal Component Analysis"
   ]
  },
  {
   "cell_type": "code",
   "execution_count": 7,
   "metadata": {},
   "outputs": [
    {
     "name": "stderr",
     "output_type": "stream",
     "text": [
      "/usr/local/lib/python2.7/dist-packages/sklearn/utils/deprecation.py:57: DeprecationWarning: Class RandomizedPCA is deprecated; RandomizedPCA was deprecated in 0.18 and will be removed in 0.20. Use PCA(svd_solver='randomized') instead. The new implementation DOES NOT store whiten ``components_``. Apply transform to get them.\n",
      "  warnings.warn(msg, category=DeprecationWarning)\n"
     ]
    }
   ],
   "source": [
    "# reducing the dimensiontality of dataset\n",
    "n_components = 150                 # no of eigen vector to select\n",
    "\n",
    "# finding top n components principal components in data\n",
    "pca = RandomizedPCA(n_components = n_components).fit(X_train)"
   ]
  },
  {
   "cell_type": "code",
   "execution_count": 8,
   "metadata": {},
   "outputs": [],
   "source": [
    "# Projecting the data into eigen space"
   ]
  },
  {
   "cell_type": "code",
   "execution_count": 9,
   "metadata": {},
   "outputs": [
    {
     "name": "stdout",
     "output_type": "stream",
     "text": [
      "New Height 300\n",
      "New Width 150\n"
     ]
    }
   ],
   "source": [
    "X_train_pca = pca.transform(X_train)     # training input data\n",
    "X_test_pca = pca.transform(X_test)       # testing input data\n",
    "\n",
    "# New Height and width\n",
    "new_height, new_width = X_train_pca.shape\n",
    "print \"New Height \" + str(new_height)\n",
    "print \"New Width \" + str(new_width)"
   ]
  },
  {
   "cell_type": "code",
   "execution_count": 10,
   "metadata": {},
   "outputs": [],
   "source": [
    "# Now using K nearest neighbour to classify images\n"
   ]
  },
  {
   "cell_type": "code",
   "execution_count": 18,
   "metadata": {},
   "outputs": [
    {
     "name": "stdout",
     "output_type": "stream",
     "text": [
      "[13  8 31 39 24 22 25  4 37 29 34  8 28 29 14  4 13 11 37  6 38 17 24 17  4\n",
      " 17  2 17 12 23  1 23 34  3 23  5 32 14 14 27  4 14  8  6 10 24 13 15 13  8\n",
      " 10 37 35 19 22 36 23  0 25  6  1 22 35  4  5 15 11 25 39  1  7  6 34 17 18\n",
      " 36 19  2  5  5  8  6 20 37 26 20 29 21 15 32 28 26 29 33  2  2 18 15 12 27]\n"
     ]
    }
   ],
   "source": [
    "knn_classifier = KNeighborsClassifier(n_neighbors=5)\n",
    "knn_classifier.fit(X_train_pca, y_train)\n",
    "\n",
    "# Detecting faces in test space\n",
    "y_pred_test = knn_classifier.predict(X_test_pca)"
   ]
  },
  {
   "cell_type": "code",
   "execution_count": 12,
   "metadata": {},
   "outputs": [
    {
     "name": "stdout",
     "output_type": "stream",
     "text": [
      "78.0\n"
     ]
    }
   ],
   "source": [
    "# Now calculating accuracy\n",
    "correct_count = 0.0\n",
    "for i in range(len(y_test)):\n",
    "    if y_pred_test[i] == y_test[i]:\n",
    "        correct_count += 1\n",
    "accuracy = correct_count / len(y_test)\n",
    "print accuracy * 100"
   ]
  },
  {
   "cell_type": "code",
   "execution_count": 13,
   "metadata": {},
   "outputs": [
    {
     "data": {
      "text/plain": [
       "KNeighborsClassifier(algorithm='auto', leaf_size=30, metric='minkowski',\n",
       "           metric_params=None, n_jobs=1, n_neighbors=5, p=2,\n",
       "           weights='uniform')"
      ]
     },
     "execution_count": 13,
     "metadata": {},
     "output_type": "execute_result"
    }
   ],
   "source": [
    "# Now using K nearest neighbour using manathan distance\n",
    "KNeighborsClassifier()\n",
    "\n",
    "# we are going to use mikowski metric with value of p = 1"
   ]
  },
  {
   "cell_type": "code",
   "execution_count": 14,
   "metadata": {},
   "outputs": [
    {
     "name": "stdout",
     "output_type": "stream",
     "text": [
      "[13  8 31 39 24 22 25 29 37 29 34 16 28 29 14  4 13 11 37 18 38 17 24 17  4\n",
      "  6  8 17 12 23  1 23 34 19 23  5 32 14 14 27 39 14  3  3 10 24 13 17 13 22\n",
      " 10 37  4 19 22 36 23 16 25  6  1 22 29  4  5 15 11 37 39  1  7 18 34 17 18\n",
      " 36 19  2  5  5  8  6 20 37 26 28 29 21  0 32 28 26 29 33  2  2 18 39 12 14]\n"
     ]
    }
   ],
   "source": [
    "knn_classifier_manhathan = KNeighborsClassifier(n_neighbors=5, p=1)\n",
    "knn_classifier_manhathan.fit(X_train_pca, y_train)\n",
    "\n",
    "# Detecting faces\n",
    "y_pred_test_manhathan = knn_classifier_manhathan.predict(X_test_pca)\n",
    "print y_pred_test_manhathan\n"
   ]
  },
  {
   "cell_type": "code",
   "execution_count": 15,
   "metadata": {},
   "outputs": [],
   "source": [
    "# Now calculating accuracy score for manhathan distace\n"
   ]
  },
  {
   "cell_type": "code",
   "execution_count": 16,
   "metadata": {},
   "outputs": [
    {
     "name": "stdout",
     "output_type": "stream",
     "text": [
      "78.0\n"
     ]
    }
   ],
   "source": [
    "correct_count_manhathan = 0.0\n",
    "for i in range(len(y_test)):\n",
    "    if y_pred_test_manhathan[i] == y_test[i]:\n",
    "        correct_count_manhathan += 1\n",
    "accuracy_manhathan = correct_count_manhathan / len(y_test)\n",
    "print accuracy_manhathan * 100"
   ]
  },
  {
   "cell_type": "markdown",
   "metadata": {},
   "source": [
    "### Accuracy  with different value of nearest neighbours(n) using both distance metrics"
   ]
  },
  {
   "cell_type": "markdown",
   "metadata": {},
   "source": [
    "<table>\n",
    "    <tr>\n",
    "        <th style=\"background-color:red;\">Number of nearest neighbour</th>\n",
    "        <th style=\"background-color:red;\">Eucliediean Distance</th>\n",
    "        <th style=\"background-color:red;\">Manhathan Distance</th>\n",
    "    </tr>\n",
    "    <tr>\n",
    "        <td>2</td>\n",
    "        <td>86.0 %</td>\n",
    "        <td>85.0 %</td>\n",
    "    </tr>\n",
    "    <tr>\n",
    "        <td>5</td>\n",
    "        <td>78.0 %</td>\n",
    "        <td>79.0 %</td>\n",
    "    </tr>\n",
    "    <tr>\n",
    "        <td>7</td>\n",
    "        <td>70.0 %</td>\n",
    "        <td>73.0 %</td>\n",
    "    </tr>\n",
    "    <tr>\n",
    "        <td>10</td>\n",
    "        <td>63.0 %</td>\n",
    "        <td>67.0 %</td>\n",
    "    </tr>\n",
    "</table>"
   ]
  },
  {
   "cell_type": "markdown",
   "metadata": {},
   "source": [
    "#### Accuracy score vs nearest neighbours"
   ]
  },
  {
   "cell_type": "code",
   "execution_count": 21,
   "metadata": {},
   "outputs": [
    {
     "data": {
      "image/png": "[encoded data removed]",
      "text/plain": [
       "<matplotlib.figure.Figure at 0x7f0e14a8bd90>"
      ]
     },
     "metadata": {},
     "output_type": "display_data"
    }
   ],
   "source": [
    "X1 = [2, 5, 7, 10]\n",
    "Y1 = [86, 78, 70, 63]\n",
    "Y2 = [85, 79, 73, 67]\n",
    "plt.plot(X1, Y1, label='Eucliediean Distance', color='r')\n",
    "plt.plot(X1, Y2, label='Manhathan Distance', color='b')\n",
    "plt.xlabel(\"Nearest Neighbor (n)\")\n",
    "plt.ylabel(\"Accuracy Score (in %)\")\n",
    "plt.legend()\n",
    "plt.title(\"Graph showing accuracy of different distance metrics wrt nearest neighbour\\n\")\n",
    "plt.show()"
   ]
  },
  {
   "cell_type": "code",
   "execution_count": null,
   "metadata": {},
   "outputs": [],
   "source": []
  }
 ],
 "metadata": {
  "kernelspec": {
   "display_name": "Python 2",
   "language": "python",
   "name": "python2"
  },
  "language_info": {
   "codemirror_mode": {
    "name": "ipython",
    "version": 2
   },
   "file_extension": ".py",
   "mimetype": "text/x-python",
   "name": "python",
   "nbconvert_exporter": "python",
   "pygments_lexer": "ipython2",
   "version": "2.7.12"
  }
 },
 "nbformat": 4,
 "nbformat_minor": 2
}
